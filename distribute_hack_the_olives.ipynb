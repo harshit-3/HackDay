{
  "nbformat": 4,
  "nbformat_minor": 0,
  "metadata": {
    "kernelspec": {
      "display_name": "ml1-arm64",
      "language": "python",
      "name": "ml1-arm64"
    },
    "language_info": {
      "codemirror_mode": {
        "name": "ipython",
        "version": 3
      },
      "file_extension": ".py",
      "mimetype": "text/x-python",
      "name": "python",
      "nbconvert_exporter": "python",
      "pygments_lexer": "ipython3",
      "version": "3.9.1"
    },
    "colab": {
      "name": "distribute_hack_the_olives.ipynb",
      "provenance": []
    },
    "widgets": {
      "application/vnd.jupyter.widget-state+json": {
        "fa3c7816a281400faad02f9a15e9b14e": {
          "model_module": "@jupyter-widgets/controls",
          "model_name": "VBoxModel",
          "state": {
            "_view_name": "VBoxView",
            "_dom_classes": [
              "widget-interact"
            ],
            "_model_name": "VBoxModel",
            "_view_module": "@jupyter-widgets/controls",
            "_model_module_version": "1.5.0",
            "_view_count": null,
            "_view_module_version": "1.5.0",
            "box_style": "",
            "layout": "IPY_MODEL_6f9deb9108ce4ba59239bd3c2b7df51a",
            "_model_module": "@jupyter-widgets/controls",
            "children": [
              "IPY_MODEL_66f1bb704b0643fdabd04adedf37a841",
              "IPY_MODEL_af2f2cd1d9074d339ee4257321eca91c"
            ]
          }
        },
        "6f9deb9108ce4ba59239bd3c2b7df51a": {
          "model_module": "@jupyter-widgets/base",
          "model_name": "LayoutModel",
          "state": {
            "_view_name": "LayoutView",
            "grid_template_rows": null,
            "right": null,
            "justify_content": null,
            "_view_module": "@jupyter-widgets/base",
            "overflow": null,
            "_model_module_version": "1.2.0",
            "_view_count": null,
            "flex_flow": null,
            "width": null,
            "min_width": null,
            "border": null,
            "align_items": null,
            "bottom": null,
            "_model_module": "@jupyter-widgets/base",
            "top": null,
            "grid_column": null,
            "overflow_y": null,
            "overflow_x": null,
            "grid_auto_flow": null,
            "grid_area": null,
            "grid_template_columns": null,
            "flex": null,
            "_model_name": "LayoutModel",
            "justify_items": null,
            "grid_row": null,
            "max_height": null,
            "align_content": null,
            "visibility": null,
            "align_self": null,
            "height": null,
            "min_height": null,
            "padding": null,
            "grid_auto_rows": null,
            "grid_gap": null,
            "max_width": null,
            "order": null,
            "_view_module_version": "1.2.0",
            "grid_template_areas": null,
            "object_position": null,
            "object_fit": null,
            "grid_auto_columns": null,
            "margin": null,
            "display": null,
            "left": null
          }
        },
        "66f1bb704b0643fdabd04adedf37a841": {
          "model_module": "@jupyter-widgets/controls",
          "model_name": "IntSliderModel",
          "state": {
            "_view_name": "IntSliderView",
            "style": "IPY_MODEL_0d4ed2b4ae96401f8e71e18c0697172b",
            "_dom_classes": [],
            "description": "N",
            "step": 10,
            "_model_name": "IntSliderModel",
            "orientation": "horizontal",
            "max": 200,
            "_view_module": "@jupyter-widgets/controls",
            "_model_module_version": "1.5.0",
            "value": 10,
            "_view_count": null,
            "disabled": false,
            "_view_module_version": "1.5.0",
            "min": 10,
            "continuous_update": true,
            "readout_format": "d",
            "description_tooltip": null,
            "readout": true,
            "_model_module": "@jupyter-widgets/controls",
            "layout": "IPY_MODEL_59ee57e2801240eca359643f405bd01b"
          }
        },
        "af2f2cd1d9074d339ee4257321eca91c": {
          "model_module": "@jupyter-widgets/output",
          "model_name": "OutputModel",
          "state": {
            "_view_name": "OutputView",
            "msg_id": "",
            "_dom_classes": [],
            "_model_name": "OutputModel",
            "outputs": [
              {
                "output_type": "display_data",
                "metadata": {
                  "tags": [],
                  "needs_background": "light"
                },
                "image/png": "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\n",
                "text/plain": "<Figure size 432x288 with 1 Axes>"
              }
            ],
            "_view_module": "@jupyter-widgets/output",
            "_model_module_version": "1.0.0",
            "_view_count": null,
            "_view_module_version": "1.0.0",
            "layout": "IPY_MODEL_fc4d6dc8d1c949688cd266ca09ca5834",
            "_model_module": "@jupyter-widgets/output"
          }
        },
        "0d4ed2b4ae96401f8e71e18c0697172b": {
          "model_module": "@jupyter-widgets/controls",
          "model_name": "SliderStyleModel",
          "state": {
            "_view_name": "StyleView",
            "handle_color": null,
            "_model_name": "SliderStyleModel",
            "description_width": "",
            "_view_module": "@jupyter-widgets/base",
            "_model_module_version": "1.5.0",
            "_view_count": null,
            "_view_module_version": "1.2.0",
            "_model_module": "@jupyter-widgets/controls"
          }
        },
        "59ee57e2801240eca359643f405bd01b": {
          "model_module": "@jupyter-widgets/base",
          "model_name": "LayoutModel",
          "state": {
            "_view_name": "LayoutView",
            "grid_template_rows": null,
            "right": null,
            "justify_content": null,
            "_view_module": "@jupyter-widgets/base",
            "overflow": null,
            "_model_module_version": "1.2.0",
            "_view_count": null,
            "flex_flow": null,
            "width": null,
            "min_width": null,
            "border": null,
            "align_items": null,
            "bottom": null,
            "_model_module": "@jupyter-widgets/base",
            "top": null,
            "grid_column": null,
            "overflow_y": null,
            "overflow_x": null,
            "grid_auto_flow": null,
            "grid_area": null,
            "grid_template_columns": null,
            "flex": null,
            "_model_name": "LayoutModel",
            "justify_items": null,
            "grid_row": null,
            "max_height": null,
            "align_content": null,
            "visibility": null,
            "align_self": null,
            "height": null,
            "min_height": null,
            "padding": null,
            "grid_auto_rows": null,
            "grid_gap": null,
            "max_width": null,
            "order": null,
            "_view_module_version": "1.2.0",
            "grid_template_areas": null,
            "object_position": null,
            "object_fit": null,
            "grid_auto_columns": null,
            "margin": null,
            "display": null,
            "left": null
          }
        },
        "fc4d6dc8d1c949688cd266ca09ca5834": {
          "model_module": "@jupyter-widgets/base",
          "model_name": "LayoutModel",
          "state": {
            "_view_name": "LayoutView",
            "grid_template_rows": null,
            "right": null,
            "justify_content": null,
            "_view_module": "@jupyter-widgets/base",
            "overflow": null,
            "_model_module_version": "1.2.0",
            "_view_count": null,
            "flex_flow": null,
            "width": null,
            "min_width": null,
            "border": null,
            "align_items": null,
            "bottom": null,
            "_model_module": "@jupyter-widgets/base",
            "top": null,
            "grid_column": null,
            "overflow_y": null,
            "overflow_x": null,
            "grid_auto_flow": null,
            "grid_area": null,
            "grid_template_columns": null,
            "flex": null,
            "_model_name": "LayoutModel",
            "justify_items": null,
            "grid_row": null,
            "max_height": null,
            "align_content": null,
            "visibility": null,
            "align_self": null,
            "height": null,
            "min_height": null,
            "padding": null,
            "grid_auto_rows": null,
            "grid_gap": null,
            "max_width": null,
            "order": null,
            "_view_module_version": "1.2.0",
            "grid_template_areas": null,
            "object_position": null,
            "object_fit": null,
            "grid_auto_columns": null,
            "margin": null,
            "display": null,
            "left": null
          }
        }
      }
    }
  },
  "cells": [
    {
      "cell_type": "markdown",
      "metadata": {
        "id": "BRxPwocHyjU-"
      },
      "source": [
        "# SVM and Ensembles"
      ]
    },
    {
      "cell_type": "code",
      "metadata": {
        "id": "NStGX75Bymv3",
        "outputId": "d9285f80-a794-4a60-a564-30a891276d1f",
        "colab": {
          "base_uri": "https://localhost:8080/"
        }
      },
      "source": [
        "!git init; git pull https://github.com/harshit-3/HackDay.git"
      ],
      "execution_count": 1,
      "outputs": [
        {
          "output_type": "stream",
          "text": [
            "Initialized empty Git repository in /content/.git/\n",
            "remote: Enumerating objects: 18, done.\u001b[K\n",
            "remote: Counting objects: 100% (18/18), done.\u001b[K\n",
            "remote: Compressing objects: 100% (13/13), done.\u001b[K\n",
            "remote: Total 18 (delta 2), reused 18 (delta 2), pack-reused 0\u001b[K\n",
            "Unpacking objects: 100% (18/18), done.\n",
            "From https://github.com/harshit-3/HackDay\n",
            " * branch            HEAD       -> FETCH_HEAD\n"
          ],
          "name": "stdout"
        }
      ]
    },
    {
      "cell_type": "code",
      "metadata": {
        "jupyter": {
          "outputs_hidden": false
        },
        "id": "9-LDzegoyjVD"
      },
      "source": [
        "%matplotlib inline\n",
        "import numpy as np\n",
        "import matplotlib.pyplot as plt\n",
        "import pandas as pd"
      ],
      "execution_count": 2,
      "outputs": []
    },
    {
      "cell_type": "code",
      "metadata": {
        "jupyter": {
          "outputs_hidden": false
        },
        "id": "W0ulZxesyjVE"
      },
      "source": [
        "from IPython.core.display import Image"
      ],
      "execution_count": 3,
      "outputs": []
    },
    {
      "cell_type": "markdown",
      "metadata": {
        "id": "tRw3FqNMyjVF"
      },
      "source": [
        "## Italian Olives"
      ]
    },
    {
      "cell_type": "markdown",
      "metadata": {
        "id": "izcXEXMpyjVF"
      },
      "source": [
        "![](https://github.com/harshit-3/HackDay/blob/main/images/Italy.png?raw=1)"
      ]
    },
    {
      "cell_type": "markdown",
      "metadata": {
        "id": "pcYbYB4ZyjVF"
      },
      "source": [
        "I found this data set in the RGGobi book (http://www.ggobi.org/book/), from which the above diagram is taken. It has \"the percentage composition of fatty acids\n",
        "found in the lipid fraction of Italian olive oils', with oils from 3 regions of Italy: the North, the South, and Sardinia. The regions themselves are subdivided into areas as shown in the map above. The source for this data is:\n",
        "\n",
        ">Forina, M., Armanino, C., Lanteri, S. & Tiscornia, E. (1983), Classification of Olive Oils from their Fatty Acid Composition, in Martens, H. and\n",
        "Russwurm Jr., H., eds, Food Research and Data Analysis, Applied Science\n",
        "Publishers, London, pp. 189–214."
      ]
    },
    {
      "cell_type": "code",
      "metadata": {
        "jupyter": {
          "outputs_hidden": false
        },
        "id": "IT507-fXyjVG",
        "outputId": "f3c1fe2d-fc4e-4861-d90a-72ad06f626ff",
        "colab": {
          "base_uri": "https://localhost:8080/",
          "height": 195
        }
      },
      "source": [
        "df=pd.read_csv(\"data/olives-cleaned.csv\")\n",
        "df.head(5)"
      ],
      "execution_count": 4,
      "outputs": [
        {
          "output_type": "execute_result",
          "data": {
            "text/html": [
              "<div>\n",
              "<style scoped>\n",
              "    .dataframe tbody tr th:only-of-type {\n",
              "        vertical-align: middle;\n",
              "    }\n",
              "\n",
              "    .dataframe tbody tr th {\n",
              "        vertical-align: top;\n",
              "    }\n",
              "\n",
              "    .dataframe thead th {\n",
              "        text-align: right;\n",
              "    }\n",
              "</style>\n",
              "<table border=\"1\" class=\"dataframe\">\n",
              "  <thead>\n",
              "    <tr style=\"text-align: right;\">\n",
              "      <th></th>\n",
              "      <th>areastring</th>\n",
              "      <th>region</th>\n",
              "      <th>area</th>\n",
              "      <th>palmitic</th>\n",
              "      <th>palmitoleic</th>\n",
              "      <th>stearic</th>\n",
              "      <th>oleic</th>\n",
              "      <th>linoleic</th>\n",
              "      <th>linolenic</th>\n",
              "      <th>arachidic</th>\n",
              "      <th>eicosenoic</th>\n",
              "      <th>regionstring</th>\n",
              "    </tr>\n",
              "  </thead>\n",
              "  <tbody>\n",
              "    <tr>\n",
              "      <th>0</th>\n",
              "      <td>North-Apulia</td>\n",
              "      <td>1</td>\n",
              "      <td>1</td>\n",
              "      <td>10.75</td>\n",
              "      <td>0.75</td>\n",
              "      <td>2.26</td>\n",
              "      <td>78.23</td>\n",
              "      <td>6.72</td>\n",
              "      <td>0.36</td>\n",
              "      <td>0.60</td>\n",
              "      <td>0.29</td>\n",
              "      <td>South</td>\n",
              "    </tr>\n",
              "    <tr>\n",
              "      <th>1</th>\n",
              "      <td>North-Apulia</td>\n",
              "      <td>1</td>\n",
              "      <td>1</td>\n",
              "      <td>10.88</td>\n",
              "      <td>0.73</td>\n",
              "      <td>2.24</td>\n",
              "      <td>77.09</td>\n",
              "      <td>7.81</td>\n",
              "      <td>0.31</td>\n",
              "      <td>0.61</td>\n",
              "      <td>0.29</td>\n",
              "      <td>South</td>\n",
              "    </tr>\n",
              "    <tr>\n",
              "      <th>2</th>\n",
              "      <td>North-Apulia</td>\n",
              "      <td>1</td>\n",
              "      <td>1</td>\n",
              "      <td>9.11</td>\n",
              "      <td>0.54</td>\n",
              "      <td>2.46</td>\n",
              "      <td>81.13</td>\n",
              "      <td>5.49</td>\n",
              "      <td>0.31</td>\n",
              "      <td>0.63</td>\n",
              "      <td>0.29</td>\n",
              "      <td>South</td>\n",
              "    </tr>\n",
              "    <tr>\n",
              "      <th>3</th>\n",
              "      <td>North-Apulia</td>\n",
              "      <td>1</td>\n",
              "      <td>1</td>\n",
              "      <td>9.66</td>\n",
              "      <td>0.57</td>\n",
              "      <td>2.40</td>\n",
              "      <td>79.52</td>\n",
              "      <td>6.19</td>\n",
              "      <td>0.50</td>\n",
              "      <td>0.78</td>\n",
              "      <td>0.35</td>\n",
              "      <td>South</td>\n",
              "    </tr>\n",
              "    <tr>\n",
              "      <th>4</th>\n",
              "      <td>North-Apulia</td>\n",
              "      <td>1</td>\n",
              "      <td>1</td>\n",
              "      <td>10.51</td>\n",
              "      <td>0.67</td>\n",
              "      <td>2.59</td>\n",
              "      <td>77.71</td>\n",
              "      <td>6.72</td>\n",
              "      <td>0.50</td>\n",
              "      <td>0.80</td>\n",
              "      <td>0.46</td>\n",
              "      <td>South</td>\n",
              "    </tr>\n",
              "  </tbody>\n",
              "</table>\n",
              "</div>"
            ],
            "text/plain": [
              "     areastring  region  area  ...  arachidic  eicosenoic  regionstring\n",
              "0  North-Apulia       1     1  ...       0.60        0.29         South\n",
              "1  North-Apulia       1     1  ...       0.61        0.29         South\n",
              "2  North-Apulia       1     1  ...       0.63        0.29         South\n",
              "3  North-Apulia       1     1  ...       0.78        0.35         South\n",
              "4  North-Apulia       1     1  ...       0.80        0.46         South\n",
              "\n",
              "[5 rows x 12 columns]"
            ]
          },
          "metadata": {
            "tags": []
          },
          "execution_count": 4
        }
      ]
    },
    {
      "cell_type": "code",
      "metadata": {
        "id": "7SwVpuVhz1GH",
        "outputId": "c300e6ef-0da4-4be7-822a-dfd60a64ecb9",
        "colab": {
          "base_uri": "https://localhost:8080/"
        }
      },
      "source": [
        "df['areastring'].unique()"
      ],
      "execution_count": 9,
      "outputs": [
        {
          "output_type": "execute_result",
          "data": {
            "text/plain": [
              "array(['North-Apulia', 'Calabria', 'South-Apulia', 'Sicily',\n",
              "       'Inland-Sardinia', 'Coast-Sardinia', 'Umbria', 'East-Liguria',\n",
              "       'West-Liguria'], dtype=object)"
            ]
          },
          "metadata": {
            "tags": []
          },
          "execution_count": 9
        }
      ]
    },
    {
      "cell_type": "markdown",
      "metadata": {
        "id": "mLWS9X2vyjVG"
      },
      "source": [
        "### exploring globally"
      ]
    },
    {
      "cell_type": "code",
      "metadata": {
        "jupyter": {
          "outputs_hidden": false
        },
        "id": "itBmh6mkyjVG",
        "outputId": "6902d431-b5a7-4076-ebc6-4d060841a263",
        "colab": {
          "base_uri": "https://localhost:8080/",
          "height": 331
        }
      },
      "source": [
        "pd.value_counts(df.areastring, sort=False).plot(kind=\"bar\");"
      ],
      "execution_count": 5,
      "outputs": [
        {
          "output_type": "display_data",
          "data": {
            "image/png": "[encoded data removed]",
            "text/plain": [
              "<Figure size 432x288 with 1 Axes>"
            ]
          },
          "metadata": {
            "tags": [],
            "needs_background": "light"
          }
        }
      ]
    },
    {
      "cell_type": "code",
      "metadata": {
        "jupyter": {
          "outputs_hidden": false
        },
        "id": "INUlu0UnyjVG",
        "outputId": "b7be9d8e-c13c-4d70-c4ea-be68b5f075e6",
        "colab": {
          "base_uri": "https://localhost:8080/",
          "height": 265
        }
      },
      "source": [
        "pd.value_counts(df.regionstring, sort=False).plot(kind=\"barh\");"
      ],
      "execution_count": 6,
      "outputs": [
        {
          "output_type": "display_data",
          "data": {
            "image/png": "[encoded data removed]",
            "text/plain": [
              "<Figure size 432x288 with 1 Axes>"
            ]
          },
          "metadata": {
            "tags": [],
            "needs_background": "light"
          }
        }
      ]
    },
    {
      "cell_type": "code",
      "metadata": {
        "jupyter": {
          "outputs_hidden": false
        },
        "id": "6z2hBXjYyjVH",
        "outputId": "84bd2af9-bc2b-4134-fb50-31cce4df9603",
        "colab": {
          "base_uri": "https://localhost:8080/",
          "height": 284
        }
      },
      "source": [
        "df.describe()"
      ],
      "execution_count": 7,
      "outputs": [
        {
          "output_type": "execute_result",
          "data": {
            "text/html": [
              "<div>\n",
              "<style scoped>\n",
              "    .dataframe tbody tr th:only-of-type {\n",
              "        vertical-align: middle;\n",
              "    }\n",
              "\n",
              "    .dataframe tbody tr th {\n",
              "        vertical-align: top;\n",
              "    }\n",
              "\n",
              "    .dataframe thead th {\n",
              "        text-align: right;\n",
              "    }\n",
              "</style>\n",
              "<table border=\"1\" class=\"dataframe\">\n",
              "  <thead>\n",
              "    <tr style=\"text-align: right;\">\n",
              "      <th></th>\n",
              "      <th>region</th>\n",
              "      <th>area</th>\n",
              "      <th>palmitic</th>\n",
              "      <th>palmitoleic</th>\n",
              "      <th>stearic</th>\n",
              "      <th>oleic</th>\n",
              "      <th>linoleic</th>\n",
              "      <th>linolenic</th>\n",
              "      <th>arachidic</th>\n",
              "      <th>eicosenoic</th>\n",
              "    </tr>\n",
              "  </thead>\n",
              "  <tbody>\n",
              "    <tr>\n",
              "      <th>count</th>\n",
              "      <td>572.000000</td>\n",
              "      <td>572.000000</td>\n",
              "      <td>572.000000</td>\n",
              "      <td>572.000000</td>\n",
              "      <td>572.000000</td>\n",
              "      <td>572.000000</td>\n",
              "      <td>572.000000</td>\n",
              "      <td>572.000000</td>\n",
              "      <td>572.000000</td>\n",
              "      <td>572.000000</td>\n",
              "    </tr>\n",
              "    <tr>\n",
              "      <th>mean</th>\n",
              "      <td>1.699301</td>\n",
              "      <td>4.599650</td>\n",
              "      <td>12.317413</td>\n",
              "      <td>1.260944</td>\n",
              "      <td>2.288654</td>\n",
              "      <td>73.117483</td>\n",
              "      <td>9.805280</td>\n",
              "      <td>0.318881</td>\n",
              "      <td>0.580979</td>\n",
              "      <td>0.162815</td>\n",
              "    </tr>\n",
              "    <tr>\n",
              "      <th>std</th>\n",
              "      <td>0.859968</td>\n",
              "      <td>2.356687</td>\n",
              "      <td>1.685923</td>\n",
              "      <td>0.524944</td>\n",
              "      <td>0.367449</td>\n",
              "      <td>4.058102</td>\n",
              "      <td>2.427992</td>\n",
              "      <td>0.129687</td>\n",
              "      <td>0.220302</td>\n",
              "      <td>0.140833</td>\n",
              "    </tr>\n",
              "    <tr>\n",
              "      <th>min</th>\n",
              "      <td>1.000000</td>\n",
              "      <td>1.000000</td>\n",
              "      <td>6.100000</td>\n",
              "      <td>0.150000</td>\n",
              "      <td>1.520000</td>\n",
              "      <td>63.000000</td>\n",
              "      <td>4.480000</td>\n",
              "      <td>0.000000</td>\n",
              "      <td>0.000000</td>\n",
              "      <td>0.010000</td>\n",
              "    </tr>\n",
              "    <tr>\n",
              "      <th>25%</th>\n",
              "      <td>1.000000</td>\n",
              "      <td>3.000000</td>\n",
              "      <td>10.950000</td>\n",
              "      <td>0.877500</td>\n",
              "      <td>2.050000</td>\n",
              "      <td>70.000000</td>\n",
              "      <td>7.707500</td>\n",
              "      <td>0.260000</td>\n",
              "      <td>0.500000</td>\n",
              "      <td>0.020000</td>\n",
              "    </tr>\n",
              "    <tr>\n",
              "      <th>50%</th>\n",
              "      <td>1.000000</td>\n",
              "      <td>3.000000</td>\n",
              "      <td>12.010000</td>\n",
              "      <td>1.100000</td>\n",
              "      <td>2.230000</td>\n",
              "      <td>73.025000</td>\n",
              "      <td>10.300000</td>\n",
              "      <td>0.330000</td>\n",
              "      <td>0.610000</td>\n",
              "      <td>0.170000</td>\n",
              "    </tr>\n",
              "    <tr>\n",
              "      <th>75%</th>\n",
              "      <td>3.000000</td>\n",
              "      <td>7.000000</td>\n",
              "      <td>13.600000</td>\n",
              "      <td>1.692500</td>\n",
              "      <td>2.490000</td>\n",
              "      <td>76.800000</td>\n",
              "      <td>11.807500</td>\n",
              "      <td>0.402500</td>\n",
              "      <td>0.700000</td>\n",
              "      <td>0.280000</td>\n",
              "    </tr>\n",
              "    <tr>\n",
              "      <th>max</th>\n",
              "      <td>3.000000</td>\n",
              "      <td>9.000000</td>\n",
              "      <td>17.530000</td>\n",
              "      <td>2.800000</td>\n",
              "      <td>3.750000</td>\n",
              "      <td>84.100000</td>\n",
              "      <td>14.700000</td>\n",
              "      <td>0.740000</td>\n",
              "      <td>1.050000</td>\n",
              "      <td>0.580000</td>\n",
              "    </tr>\n",
              "  </tbody>\n",
              "</table>\n",
              "</div>"
            ],
            "text/plain": [
              "           region        area    palmitic  ...   linolenic   arachidic  eicosenoic\n",
              "count  572.000000  572.000000  572.000000  ...  572.000000  572.000000  572.000000\n",
              "mean     1.699301    4.599650   12.317413  ...    0.318881    0.580979    0.162815\n",
              "std      0.859968    2.356687    1.685923  ...    0.129687    0.220302    0.140833\n",
              "min      1.000000    1.000000    6.100000  ...    0.000000    0.000000    0.010000\n",
              "25%      1.000000    3.000000   10.950000  ...    0.260000    0.500000    0.020000\n",
              "50%      1.000000    3.000000   12.010000  ...    0.330000    0.610000    0.170000\n",
              "75%      3.000000    7.000000   13.600000  ...    0.402500    0.700000    0.280000\n",
              "max      3.000000    9.000000   17.530000  ...    0.740000    1.050000    0.580000\n",
              "\n",
              "[8 rows x 10 columns]"
            ]
          },
          "metadata": {
            "tags": []
          },
          "execution_count": 7
        }
      ]
    },
    {
      "cell_type": "markdown",
      "metadata": {
        "id": "jqP7-A4tyjVH"
      },
      "source": [
        "## Figuring the South of Italy by Area"
      ]
    },
    {
      "cell_type": "code",
      "metadata": {
        "jupyter": {
          "outputs_hidden": false
        },
        "id": "d0hMTDbJyjVH",
        "outputId": "8035af4c-8583-403c-e7df-15eb3173a17e",
        "colab": {
          "base_uri": "https://localhost:8080/",
          "height": 195
        }
      },
      "source": [
        "dfsouth=df[df.regionstring=='South']\n",
        "dfsouth.head()"
      ],
      "execution_count": 10,
      "outputs": [
        {
          "output_type": "execute_result",
          "data": {
            "text/html": [
              "<div>\n",
              "<style scoped>\n",
              "    .dataframe tbody tr th:only-of-type {\n",
              "        vertical-align: middle;\n",
              "    }\n",
              "\n",
              "    .dataframe tbody tr th {\n",
              "        vertical-align: top;\n",
              "    }\n",
              "\n",
              "    .dataframe thead th {\n",
              "        text-align: right;\n",
              "    }\n",
              "</style>\n",
              "<table border=\"1\" class=\"dataframe\">\n",
              "  <thead>\n",
              "    <tr style=\"text-align: right;\">\n",
              "      <th></th>\n",
              "      <th>areastring</th>\n",
              "      <th>region</th>\n",
              "      <th>area</th>\n",
              "      <th>palmitic</th>\n",
              "      <th>palmitoleic</th>\n",
              "      <th>stearic</th>\n",
              "      <th>oleic</th>\n",
              "      <th>linoleic</th>\n",
              "      <th>linolenic</th>\n",
              "      <th>arachidic</th>\n",
              "      <th>eicosenoic</th>\n",
              "      <th>regionstring</th>\n",
              "    </tr>\n",
              "  </thead>\n",
              "  <tbody>\n",
              "    <tr>\n",
              "      <th>0</th>\n",
              "      <td>North-Apulia</td>\n",
              "      <td>1</td>\n",
              "      <td>1</td>\n",
              "      <td>10.75</td>\n",
              "      <td>0.75</td>\n",
              "      <td>2.26</td>\n",
              "      <td>78.23</td>\n",
              "      <td>6.72</td>\n",
              "      <td>0.36</td>\n",
              "      <td>0.60</td>\n",
              "      <td>0.29</td>\n",
              "      <td>South</td>\n",
              "    </tr>\n",
              "    <tr>\n",
              "      <th>1</th>\n",
              "      <td>North-Apulia</td>\n",
              "      <td>1</td>\n",
              "      <td>1</td>\n",
              "      <td>10.88</td>\n",
              "      <td>0.73</td>\n",
              "      <td>2.24</td>\n",
              "      <td>77.09</td>\n",
              "      <td>7.81</td>\n",
              "      <td>0.31</td>\n",
              "      <td>0.61</td>\n",
              "      <td>0.29</td>\n",
              "      <td>South</td>\n",
              "    </tr>\n",
              "    <tr>\n",
              "      <th>2</th>\n",
              "      <td>North-Apulia</td>\n",
              "      <td>1</td>\n",
              "      <td>1</td>\n",
              "      <td>9.11</td>\n",
              "      <td>0.54</td>\n",
              "      <td>2.46</td>\n",
              "      <td>81.13</td>\n",
              "      <td>5.49</td>\n",
              "      <td>0.31</td>\n",
              "      <td>0.63</td>\n",
              "      <td>0.29</td>\n",
              "      <td>South</td>\n",
              "    </tr>\n",
              "    <tr>\n",
              "      <th>3</th>\n",
              "      <td>North-Apulia</td>\n",
              "      <td>1</td>\n",
              "      <td>1</td>\n",
              "      <td>9.66</td>\n",
              "      <td>0.57</td>\n",
              "      <td>2.40</td>\n",
              "      <td>79.52</td>\n",
              "      <td>6.19</td>\n",
              "      <td>0.50</td>\n",
              "      <td>0.78</td>\n",
              "      <td>0.35</td>\n",
              "      <td>South</td>\n",
              "    </tr>\n",
              "    <tr>\n",
              "      <th>4</th>\n",
              "      <td>North-Apulia</td>\n",
              "      <td>1</td>\n",
              "      <td>1</td>\n",
              "      <td>10.51</td>\n",
              "      <td>0.67</td>\n",
              "      <td>2.59</td>\n",
              "      <td>77.71</td>\n",
              "      <td>6.72</td>\n",
              "      <td>0.50</td>\n",
              "      <td>0.80</td>\n",
              "      <td>0.46</td>\n",
              "      <td>South</td>\n",
              "    </tr>\n",
              "  </tbody>\n",
              "</table>\n",
              "</div>"
            ],
            "text/plain": [
              "     areastring  region  area  ...  arachidic  eicosenoic  regionstring\n",
              "0  North-Apulia       1     1  ...       0.60        0.29         South\n",
              "1  North-Apulia       1     1  ...       0.61        0.29         South\n",
              "2  North-Apulia       1     1  ...       0.63        0.29         South\n",
              "3  North-Apulia       1     1  ...       0.78        0.35         South\n",
              "4  North-Apulia       1     1  ...       0.80        0.46         South\n",
              "\n",
              "[5 rows x 12 columns]"
            ]
          },
          "metadata": {
            "tags": []
          },
          "execution_count": 10
        }
      ]
    },
    {
      "cell_type": "code",
      "metadata": {
        "jupyter": {
          "outputs_hidden": false
        },
        "id": "ZowmTBO-yjVH",
        "outputId": "8a98cf9e-cf17-4dff-ec4c-43cf1bf9beac",
        "colab": {
          "base_uri": "https://localhost:8080/",
          "height": 195
        }
      },
      "source": [
        "dfnosouth=df[df.regionstring!='South']\n",
        "dfnosouth.head()"
      ],
      "execution_count": 11,
      "outputs": [
        {
          "output_type": "execute_result",
          "data": {
            "text/html": [
              "<div>\n",
              "<style scoped>\n",
              "    .dataframe tbody tr th:only-of-type {\n",
              "        vertical-align: middle;\n",
              "    }\n",
              "\n",
              "    .dataframe tbody tr th {\n",
              "        vertical-align: top;\n",
              "    }\n",
              "\n",
              "    .dataframe thead th {\n",
              "        text-align: right;\n",
              "    }\n",
              "</style>\n",
              "<table border=\"1\" class=\"dataframe\">\n",
              "  <thead>\n",
              "    <tr style=\"text-align: right;\">\n",
              "      <th></th>\n",
              "      <th>areastring</th>\n",
              "      <th>region</th>\n",
              "      <th>area</th>\n",
              "      <th>palmitic</th>\n",
              "      <th>palmitoleic</th>\n",
              "      <th>stearic</th>\n",
              "      <th>oleic</th>\n",
              "      <th>linoleic</th>\n",
              "      <th>linolenic</th>\n",
              "      <th>arachidic</th>\n",
              "      <th>eicosenoic</th>\n",
              "      <th>regionstring</th>\n",
              "    </tr>\n",
              "  </thead>\n",
              "  <tbody>\n",
              "    <tr>\n",
              "      <th>323</th>\n",
              "      <td>Inland-Sardinia</td>\n",
              "      <td>2</td>\n",
              "      <td>5</td>\n",
              "      <td>11.29</td>\n",
              "      <td>1.20</td>\n",
              "      <td>2.22</td>\n",
              "      <td>72.72</td>\n",
              "      <td>11.12</td>\n",
              "      <td>0.43</td>\n",
              "      <td>0.98</td>\n",
              "      <td>0.02</td>\n",
              "      <td>Sardinia</td>\n",
              "    </tr>\n",
              "    <tr>\n",
              "      <th>324</th>\n",
              "      <td>Inland-Sardinia</td>\n",
              "      <td>2</td>\n",
              "      <td>5</td>\n",
              "      <td>10.42</td>\n",
              "      <td>1.35</td>\n",
              "      <td>2.10</td>\n",
              "      <td>73.76</td>\n",
              "      <td>11.16</td>\n",
              "      <td>0.35</td>\n",
              "      <td>0.90</td>\n",
              "      <td>0.03</td>\n",
              "      <td>Sardinia</td>\n",
              "    </tr>\n",
              "    <tr>\n",
              "      <th>325</th>\n",
              "      <td>Inland-Sardinia</td>\n",
              "      <td>2</td>\n",
              "      <td>5</td>\n",
              "      <td>11.03</td>\n",
              "      <td>0.96</td>\n",
              "      <td>2.10</td>\n",
              "      <td>73.80</td>\n",
              "      <td>10.85</td>\n",
              "      <td>0.32</td>\n",
              "      <td>0.94</td>\n",
              "      <td>0.03</td>\n",
              "      <td>Sardinia</td>\n",
              "    </tr>\n",
              "    <tr>\n",
              "      <th>326</th>\n",
              "      <td>Inland-Sardinia</td>\n",
              "      <td>2</td>\n",
              "      <td>5</td>\n",
              "      <td>11.18</td>\n",
              "      <td>0.97</td>\n",
              "      <td>2.21</td>\n",
              "      <td>72.79</td>\n",
              "      <td>11.54</td>\n",
              "      <td>0.35</td>\n",
              "      <td>0.94</td>\n",
              "      <td>0.02</td>\n",
              "      <td>Sardinia</td>\n",
              "    </tr>\n",
              "    <tr>\n",
              "      <th>327</th>\n",
              "      <td>Inland-Sardinia</td>\n",
              "      <td>2</td>\n",
              "      <td>5</td>\n",
              "      <td>10.52</td>\n",
              "      <td>0.95</td>\n",
              "      <td>2.15</td>\n",
              "      <td>73.88</td>\n",
              "      <td>11.26</td>\n",
              "      <td>0.31</td>\n",
              "      <td>0.92</td>\n",
              "      <td>0.01</td>\n",
              "      <td>Sardinia</td>\n",
              "    </tr>\n",
              "  </tbody>\n",
              "</table>\n",
              "</div>"
            ],
            "text/plain": [
              "          areastring  region  area  ...  arachidic  eicosenoic  regionstring\n",
              "323  Inland-Sardinia       2     5  ...       0.98        0.02      Sardinia\n",
              "324  Inland-Sardinia       2     5  ...       0.90        0.03      Sardinia\n",
              "325  Inland-Sardinia       2     5  ...       0.94        0.03      Sardinia\n",
              "326  Inland-Sardinia       2     5  ...       0.94        0.02      Sardinia\n",
              "327  Inland-Sardinia       2     5  ...       0.92        0.01      Sardinia\n",
              "\n",
              "[5 rows x 12 columns]"
            ]
          },
          "metadata": {
            "tags": []
          },
          "execution_count": 11
        }
      ]
    },
    {
      "cell_type": "markdown",
      "metadata": {
        "id": "bAnvTY-IyjVH"
      },
      "source": [
        "## SVM on training data for Regions"
      ]
    },
    {
      "cell_type": "markdown",
      "metadata": {
        "id": "skqXSxyWyjVI"
      },
      "source": [
        "Diagram from Jesse Johnson's excellent Shape of Data;\n",
        "http://shapeofdata.wordpress.com/2013/05/14/linear-separation-and-support-vector-machines/\n",
        "\n",
        "\n",
        "![max margin](https://github.com/harshit-3/HackDay/blob/main/images/svm.png?raw=1) \n",
        "\n",
        "The idea is to draw a line in space between the classes. But not any line, but the line which gives the `maximum margin` rectangle between points of different classes.\n",
        "\n",
        "from http://nlp.stanford.edu/IR-book/html/htmledition/support-vector-machines-the-linearly-separable-case-1.html :\n",
        "![support vectors](https://github.com/harshit-3/HackDay/blob/main/images/img1260.png?raw=1)\n",
        "\n",
        "The points right at the boundary are called the support vectors, which is where the name comes from.\n",
        "\n",
        "But what if the separability is not so simple, and there are points intruding?\n",
        "\n",
        "![intrusion](https://github.com/harshit-3/HackDay/blob/main/images/svm21.png?raw=1)\n",
        "\n",
        "Then the idea is to minimize the distance of the \"crossed over\" points from the separating line. These crossed over points are costed using \"slack\" vectors. You dont want too many of these.\n",
        "\n",
        "You obtain the line by minimizing the [Hinge Loss](http://en.wikipedia.org/wiki/Hinge_loss)"
      ]
    },
    {
      "cell_type": "code",
      "metadata": {
        "id": "AWRMSvs9yjVI"
      },
      "source": [
        "from ipywidgets import interact\n",
        "import ipywidgets as widgets"
      ],
      "execution_count": 12,
      "outputs": []
    },
    {
      "cell_type": "code",
      "metadata": {
        "jupyter": {
          "outputs_hidden": false
        },
        "id": "k4GbjYjDyjVI",
        "outputId": "ffaba315-d252-4400-907c-7ab8c197d3a9",
        "colab": {
          "base_uri": "https://localhost:8080/",
          "height": 269,
          "referenced_widgets": [
            "fa3c7816a281400faad02f9a15e9b14e",
            "6f9deb9108ce4ba59239bd3c2b7df51a",
            "66f1bb704b0643fdabd04adedf37a841",
            "af2f2cd1d9074d339ee4257321eca91c",
            "0d4ed2b4ae96401f8e71e18c0697172b",
            "59ee57e2801240eca359643f405bd01b",
            "fc4d6dc8d1c949688cd266ca09ca5834"
          ]
        }
      },
      "source": [
        "from sklearn.model_selection import train_test_split\n",
        "from sklearn.metrics import confusion_matrix\n",
        "#Stolen from Jake's notebooks, above: https://github.com/jakevdp/ESAC-stats-2014\n",
        "from sklearn.datasets import make_blobs\n",
        "from sklearn.svm import SVC # \"Support Vector Classifier\"\n",
        "\n",
        "def plot_svc_decision_function(clf, ax=None):\n",
        "    \"\"\"Plot the decision function for a 2D SVC\"\"\"\n",
        "    if ax is None:\n",
        "        ax = plt.gca()\n",
        "    x = np.linspace(plt.xlim()[0], plt.xlim()[1], 30)\n",
        "    y = np.linspace(plt.ylim()[0], plt.ylim()[1], 30)\n",
        "    Y, X = np.meshgrid(y, x)\n",
        "    P = np.zeros_like(X)\n",
        "    for i, xi in enumerate(x):\n",
        "        for j, yj in enumerate(y):\n",
        "            P[i, j] = clf.decision_function([[xi, yj]])\n",
        "    return ax.contour(X, Y, P, colors='k',\n",
        "                      levels=[-1, 0, 1], alpha=0.5,\n",
        "                      linestyles=['--', '-', '--'])\n",
        "\n",
        "def plot_svm(N):\n",
        "    X, y = make_blobs(n_samples=200, centers=2,\n",
        "                      random_state=0, cluster_std=0.60)\n",
        "    X = X[:N]\n",
        "    y = y[:N]\n",
        "    clf = SVC(kernel='linear')\n",
        "    clf.fit(X, y)\n",
        "    plt.scatter(X[:, 0], X[:, 1], c=y, s=50, cmap='spring')\n",
        "    plt.xlim(-1, 4)\n",
        "    plt.ylim(-1, 6)\n",
        "    plot_svc_decision_function(clf, plt.gca())\n",
        "    plt.scatter(clf.support_vectors_[:, 0], clf.support_vectors_[:, 1],\n",
        "                s=200, facecolors='none')\n",
        "    \n",
        "#interact(plot_svm, N=[10, 200]);\n",
        "interact(plot_svm, N=widgets.IntSlider(min=10, max=200, step=10, value=90));"
      ],
      "execution_count": 13,
      "outputs": [
        {
          "output_type": "display_data",
          "data": {
            "image/png": "[encoded data removed]",
            "text/plain": [
              "<Figure size 432x288 with 1 Axes>"
            ]
          },
          "metadata": {
            "tags": [],
            "needs_background": "light"
          }
        }
      ]
    },
    {
      "cell_type": "markdown",
      "metadata": {
        "id": "p_XMiRxbyjVJ"
      },
      "source": [
        "Notice how the points that mainly matter are the ones which are near the support vector. If new such points come in, the prediction can change."
      ]
    },
    {
      "cell_type": "markdown",
      "metadata": {
        "id": "iXCf826cyjVJ"
      },
      "source": [
        "## Training a SVM\n",
        "\n",
        "We just do two acids to start and illustrate. We'll try and see if an Olive oil is from Sardinia or not!"
      ]
    },
    {
      "cell_type": "code",
      "metadata": {
        "id": "iKyylLI6yjVJ"
      },
      "source": [
        "X = dfnosouth[['linoleic', 'arachidic']]\n",
        "X = dfnosouth[['linolenic', 'arachidic']]\n",
        "\n",
        "\n",
        "y = (dfnosouth.regionstring.values=='Sardinia')*1"
      ],
      "execution_count": null,
      "outputs": []
    },
    {
      "cell_type": "markdown",
      "metadata": {
        "id": "fS_YaGAgyjVJ"
      },
      "source": [
        "### Q1: Standardize the data set the correct way\n",
        "\n",
        "The correct way, unlike what we have done earlier is to standardize the training and test sets separately. Why is this?\n",
        "\n",
        "You are **not supposed to have seen the test set**. If you do, you are contaminating the training set and your results and error will have an optimistic bias on the training set.\n",
        "\n",
        "Indeed you will need to standardize the test set data to do your predictions by the mean and the standard deviation learned on the training set!\n",
        "\n",
        "Store the standardized data in `Xtrain, Xtest, ytrain, ytest`"
      ]
    },
    {
      "cell_type": "code",
      "metadata": {
        "jupyter": {
          "outputs_hidden": false
        },
        "id": "7L_YUE_qyjVK"
      },
      "source": [
        "# your code here\n"
      ],
      "execution_count": null,
      "outputs": []
    },
    {
      "cell_type": "code",
      "metadata": {
        "id": "q6a25FvDyjVK"
      },
      "source": [
        "Xtrain.shape, Xtest.shape"
      ],
      "execution_count": null,
      "outputs": []
    },
    {
      "cell_type": "markdown",
      "metadata": {
        "id": "HqrV1zULyjVK"
      },
      "source": [
        "Now fit the SVM with a \"linear\" kernel."
      ]
    },
    {
      "cell_type": "code",
      "metadata": {
        "jupyter": {
          "outputs_hidden": false
        },
        "id": "52F1qPwOyjVK"
      },
      "source": [
        "# your code here\n"
      ],
      "execution_count": null,
      "outputs": []
    },
    {
      "cell_type": "code",
      "metadata": {
        "jupyter": {
          "outputs_hidden": false
        },
        "id": "NgxzQ2NByjVK"
      },
      "source": [
        "plt.figure(figsize=(12, 8))\n",
        "plt.scatter(Xtrain[:, 0], Xtrain[:, 1], c=ytrain, s=50, cmap='spring', alpha=0.3)\n",
        "plot_svc_decision_function(clf, plt.gca())\n",
        "plt.scatter(clf.support_vectors_[:, 0], clf.support_vectors_[:, 1],\n",
        "                s=100, edgecolors='k', facecolors='none')\n",
        "plt.scatter(Xtest[:, 0], Xtest[:, 1], c=ytest, s=50, marker=\"s\", cmap='spring', alpha=0.5);"
      ],
      "execution_count": null,
      "outputs": []
    },
    {
      "cell_type": "code",
      "metadata": {
        "id": "p8LJ69A6yjVK"
      },
      "source": [
        "plt.figure(figsize=(12, 8))\n",
        "plt.scatter(Xtrain[:, 0], Xtrain[:, 1], c=ytrain, s=50, cmap='spring', alpha=0.3)\n",
        "plot_svc_decision_function(clf, plt.gca())\n",
        "plt.scatter(clf.support_vectors_[:, 0], clf.support_vectors_[:, 1],\n",
        "                s=100, edgecolors='k', facecolors='none')\n",
        "plt.scatter(Xtest[:, 0], Xtest[:, 1], c=clf.predict(Xtest), s=50, marker=\"s\", cmap='spring', alpha=0.5);"
      ],
      "execution_count": null,
      "outputs": []
    },
    {
      "cell_type": "markdown",
      "metadata": {
        "id": "A_sclfWnyjVK"
      },
      "source": [
        "What is our accuracy?"
      ]
    },
    {
      "cell_type": "code",
      "metadata": {
        "jupyter": {
          "outputs_hidden": false
        },
        "id": "REPDWtPxyjVL"
      },
      "source": [
        "# your code here\n"
      ],
      "execution_count": null,
      "outputs": []
    },
    {
      "cell_type": "markdown",
      "metadata": {
        "id": "mlHl-At0yjVL"
      },
      "source": [
        "## The Kernel Trick\n",
        "\n",
        "Often in SVMs one uses the [kernel trick](http://en.wikipedia.org/wiki/Kernel_method), which maps a lower dimension to a higher one to make things separable.\n",
        "\n",
        "See (from above mentioned book)\n",
        "\n",
        "![](https://github.com/harshit-3/HackDay/blob/main/images/img1331.png?raw=1)\n",
        "\n",
        "So lets see what using a Radial Gaussian kernel look like?\n",
        "\n",
        "$$e^{-\\gamma d(x_1,x_2)^2}$$\n",
        "\n",
        "\n",
        "### Q2: Train a radial kernel\n",
        "\n",
        "Train a radial kernel by looking up the documentation. For simplicity we'll start by using the default hyperparameters"
      ]
    },
    {
      "cell_type": "code",
      "metadata": {
        "jupyter": {
          "outputs_hidden": false
        },
        "id": "a5gWFRbbyjVL"
      },
      "source": [
        "# your code here\n"
      ],
      "execution_count": null,
      "outputs": []
    },
    {
      "cell_type": "code",
      "metadata": {
        "jupyter": {
          "outputs_hidden": false
        },
        "id": "gY3W4QH1yjVM"
      },
      "source": [
        "plt.figure(figsize=(12, 8))\n",
        "plt.scatter(Xtrain[:, 0], Xtrain[:, 1], c=ytrain, s=50, cmap='spring', alpha=0.3)\n",
        "plot_svc_decision_function(clf, plt.gca())\n",
        "plt.scatter(clf.support_vectors_[:, 0], clf.support_vectors_[:, 1],\n",
        "                s=100, facecolors='none', edgecolors='k')\n",
        "plt.scatter(Xtest[:, 0], Xtest[:, 1], c=ytest, s=50, marker=\"s\", cmap='spring', alpha=0.5);"
      ],
      "execution_count": null,
      "outputs": []
    },
    {
      "cell_type": "markdown",
      "metadata": {
        "id": "s3fAU1OzyjVM"
      },
      "source": [
        " Compute the confusion matric and the accuracy score!"
      ]
    },
    {
      "cell_type": "code",
      "metadata": {
        "jupyter": {
          "outputs_hidden": false
        },
        "id": "3a0dNh6AyjVM"
      },
      "source": [
        "# your code here\n"
      ],
      "execution_count": null,
      "outputs": []
    },
    {
      "cell_type": "code",
      "metadata": {
        "id": "q1u00pDoyjVM"
      },
      "source": [
        "clf.score(Xtest, ytest)"
      ],
      "execution_count": null,
      "outputs": []
    },
    {
      "cell_type": "markdown",
      "metadata": {
        "id": "BanMqqfzyjVM"
      },
      "source": [
        "### Q3: Use cross validation\n",
        "\n",
        "This is a take away for home. Use cross validation to estimate the hyper-parameters of this model. These are the regularization and the kernel radius.\n",
        "\n",
        "This page will help: https://scikit-learn.org/stable/auto_examples/svm/plot_rbf_parameters.html\n",
        "\n",
        "Discuss on discourse!"
      ]
    },
    {
      "cell_type": "markdown",
      "metadata": {
        "id": "1T-nTl7tyjVM"
      },
      "source": [
        "## Detective work\n",
        "\n",
        "See if you can separate out sicilian olive oils using either SVM or logistic regression or kNN.\n",
        "\n",
        "When you do this you might learn something about how the olive oil industry works...\n",
        "\n",
        "Discuss on discourse!"
      ]
    }
  ]
}